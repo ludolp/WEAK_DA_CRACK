{
 "cells": [
  {
   "cell_type": "code",
   "execution_count": 7,
   "metadata": {},
   "outputs": [
    {
     "name": "stdout",
     "output_type": "stream",
     "text": [
      "(1785, 2)\n",
      "[[158480   1520]\n",
      " [159271    729]\n",
      " [147941  12059]\n",
      " ...\n",
      " [159440    560]\n",
      " [158820   1180]\n",
      " [154663   5337]]\n"
     ]
    }
   ],
   "source": [
    "# read .npy file\n",
    "\n",
    "import numpy as np\n",
    "\n",
    "data = np.load('pixel_counts/crack500_s_pixel_counts.npy')\n",
    "\n",
    "print(data.shape)\n",
    "print(data)"
   ]
  },
  {
   "cell_type": "code",
   "execution_count": 7,
   "metadata": {},
   "outputs": [
    {
     "name": "stdout",
     "output_type": "stream",
     "text": [
      "640\n",
      "40\n"
     ]
    }
   ],
   "source": [
    "import os\n",
    "import numpy as np\n",
    "from PIL import Image\n",
    "\n",
    "# 상위 폴더 경로 설정\n",
    "parent_folder = '/home/user/WindowsShare/05. Data/02. Training&Test/022. Ministry of Ocean/003_2022_강화도어항/gtFine'\n",
    "\n",
    "# 클래스별 픽셀 개수를 저장할 빈 NumPy 배열 생성\n",
    "class_pixel_counts = []\n",
    "\n",
    "# 상위 폴더 내의 모든 하위 폴더 리스트 가져오기\n",
    "subfolders = [f for f in os.listdir(parent_folder) if os.path.isdir(os.path.join(parent_folder, f))]\n",
    "\n",
    "# 각 하위 폴더에서 이미지 처리\n",
    "for subfolder in subfolders:\n",
    "    subfolder_path = os.path.join(parent_folder, subfolder)\n",
    "\n",
    "    # 각 폴더 내의 모든 파일 리스트 가져오기\n",
    "    file_list = os.listdir(subfolder_path)\n",
    "\n",
    "    # PNG 파일만 선택\n",
    "    png_files = [f for f in file_list if f.endswith('.png')]\n",
    "    print(len(png_files))\n",
    "\n",
    "    # 클래스별 픽셀 개수 계산 및 저장\n",
    "    for png_file in png_files:\n",
    "        # 이미지 열기\n",
    "        image = Image.open(os.path.join(subfolder_path, png_file))\n",
    "\n",
    "        # 이미지를 NumPy 배열로 변환\n",
    "        img_array = np.array(image)\n",
    "\n",
    "        # 각 클래스별 픽셀 개수 세기\n",
    "        class_pixel_count = np.bincount(img_array.ravel(), minlength=4)  # 256은 픽셀 값 범위 (0-255)\n",
    "\n",
    "        # 클래스별 픽셀 개수를 class_pixel_counts에 추가\n",
    "        class_pixel_counts.append(class_pixel_count)\n",
    "\n",
    "# class_pixel_counts를 NumPy 배열로 변환\n",
    "result_array = np.array(class_pixel_counts)\n",
    "\n",
    "# 결과를 .npy 파일로 저장\n",
    "# np.save('pixel_counts/cfd_target_pixel_counts.npy', result_array)"
   ]
  },
  {
   "cell_type": "code",
   "execution_count": 8,
   "metadata": {},
   "outputs": [
    {
     "data": {
      "text/plain": [
       "(680, 4)"
      ]
     },
     "execution_count": 8,
     "metadata": {},
     "output_type": "execute_result"
    }
   ],
   "source": [
    "result_array.shape"
   ]
  },
  {
   "cell_type": "code",
   "execution_count": 9,
   "metadata": {},
   "outputs": [
    {
     "data": {
      "text/plain": [
       "array([[4193705,     599,       0,       0],\n",
       "       [4193656,     648,       0,       0],\n",
       "       [4098179,    4235,       0,   91890],\n",
       "       ...,\n",
       "       [1812662,       0,  115573, 2266069],\n",
       "       [2403230,       0,  130477, 1660597],\n",
       "       [1917953,       0,  133509, 2142842]])"
      ]
     },
     "execution_count": 9,
     "metadata": {},
     "output_type": "execute_result"
    }
   ],
   "source": [
    "result_array"
   ]
  },
  {
   "cell_type": "code",
   "execution_count": 11,
   "metadata": {},
   "outputs": [],
   "source": [
    "np.save('pixel_counts/ganghwa_t_pixel_counts.npy', result_array)"
   ]
  },
  {
   "cell_type": "code",
   "execution_count": 13,
   "metadata": {},
   "outputs": [
    {
     "name": "stdout",
     "output_type": "stream",
     "text": [
      "175\n",
      "/home/user/WindowsShare/05. Data/00. Benchmarks/22. KhanhhaCrack/04. convert2cityscapes/gtFine/train\n",
      "31\n",
      "/home/user/WindowsShare/05. Data/00. Benchmarks/22. KhanhhaCrack/04. convert2cityscapes/gtFine/val\n"
     ]
    }
   ],
   "source": [
    "import os\n",
    "import numpy as np\n",
    "from PIL import Image\n",
    "\n",
    "# 상위 폴더 경로 설정\n",
    "parent_folder = '/home/user/WindowsShare/05. Data/00. Benchmarks/22. KhanhhaCrack/04. convert2cityscapes/leftImg8bit'\n",
    "\n",
    "# 클래스별 픽셀 개수를 저장할 빈 NumPy 배열 생성\n",
    "class_pixel_counts = []\n",
    "\n",
    "# 상위 폴더 내의 모든 하위 폴더 리스트 가져오기\n",
    "subfolders = [f for f in os.listdir(parent_folder) if os.path.isdir(os.path.join(parent_folder, f))]\n",
    "\n",
    "# 각 하위 폴더에서 이미지 처리\n",
    "for subfolder in subfolders:\n",
    "    subfolder_path = os.path.join(parent_folder, subfolder)\n",
    "\n",
    "    # 각 폴더 내의 모든 파일 리스트 가져오기\n",
    "    file_list = os.listdir(subfolder_path)\n",
    "\n",
    "    # 파일 선택\n",
    "    png_files = [f for f in file_list if f.startswith('cracktree200')]\n",
    "    print(len(png_files))\n",
    "\n",
    "    subfolder_path = subfolder_path.replace('leftImg8bit', 'gtFine')\n",
    "    print(subfolder_path)\n",
    "\n",
    "    # 클래스별 픽셀 개수 계산 및 저장\n",
    "    for png_file in png_files:\n",
    "        # 이미지 열기\n",
    "        png_file = png_file.replace('_leftImg8bit.png', '_gtFine_labelIds.png')\n",
    "        image = Image.open(os.path.join(subfolder_path, png_file))\n",
    "\n",
    "        # 이미지를 NumPy 배열로 변환\n",
    "        img_array = np.array(image)\n",
    "\n",
    "        # 각 클래스별 픽셀 개수 세기\n",
    "        class_pixel_count = np.bincount(img_array.ravel(), minlength=2)  # 256은 픽셀 값 범위 (0-255)\n",
    "\n",
    "        # 클래스별 픽셀 개수를 class_pixel_counts에 추가\n",
    "        class_pixel_counts.append(class_pixel_count)\n",
    "\n",
    "# class_pixel_counts를 NumPy 배열로 변환\n",
    "result_array = np.array(class_pixel_counts)"
   ]
  },
  {
   "cell_type": "code",
   "execution_count": 14,
   "metadata": {},
   "outputs": [
    {
     "data": {
      "text/plain": [
       "(206, 2)"
      ]
     },
     "execution_count": 14,
     "metadata": {},
     "output_type": "execute_result"
    }
   ],
   "source": [
    "result_array.shape"
   ]
  },
  {
   "cell_type": "code",
   "execution_count": 16,
   "metadata": {},
   "outputs": [],
   "source": [
    "np.save('pixel_counts/cracktree200_s_pixel_counts.npy', result_array)"
   ]
  },
  {
   "cell_type": "code",
   "execution_count": 20,
   "metadata": {},
   "outputs": [
    {
     "data": {
      "text/plain": [
       "array([[198309,   2395],\n",
       "       [196017,   4687],\n",
       "       [196921,   3783],\n",
       "       ...,\n",
       "       [194566,   6138],\n",
       "       [199332,   1372],\n",
       "       [198806,   1898]])"
      ]
     },
     "execution_count": 20,
     "metadata": {},
     "output_type": "execute_result"
    }
   ],
   "source": [
    "tmp = np.load('pixel_counts/gaps_s_pixel_counts.npy')\n",
    "tmp"
   ]
  },
  {
   "cell_type": "code",
   "execution_count": 21,
   "metadata": {},
   "outputs": [
    {
     "data": {
      "text/plain": [
       "(509, 2)"
      ]
     },
     "execution_count": 21,
     "metadata": {},
     "output_type": "execute_result"
    }
   ],
   "source": [
    "tmp.shape"
   ]
  },
  {
   "cell_type": "code",
   "execution_count": 24,
   "metadata": {},
   "outputs": [
    {
     "data": {
      "text/plain": [
       "array([0., 0.])"
      ]
     },
     "execution_count": 24,
     "metadata": {},
     "output_type": "execute_result"
    }
   ],
   "source": [
    "m = np.zeros(2)\n",
    "m"
   ]
  },
  {
   "cell_type": "code",
   "execution_count": 23,
   "metadata": {},
   "outputs": [],
   "source": [
    "PER_TH = 0.1"
   ]
  },
  {
   "cell_type": "code",
   "execution_count": null,
   "metadata": {},
   "outputs": [],
   "source": []
  },
  {
   "cell_type": "code",
   "execution_count": 25,
   "metadata": {},
   "outputs": [
    {
     "data": {
      "text/plain": [
       "[198267.7033398821, 2436.296660117878]"
      ]
     },
     "execution_count": 25,
     "metadata": {},
     "output_type": "execute_result"
    }
   ],
   "source": [
    "for i in range(10):\n",
    "    counts = [tmp[tmp[:, i] > PER_TH*m[i], i] for i in range(2)]\n",
    "    m = [np.mean(c) for c in counts]\n",
    "m"
   ]
  },
  {
   "cell_type": "code",
   "execution_count": 30,
   "metadata": {},
   "outputs": [
    {
     "data": {
      "text/plain": [
       "array([[198309,   2395],\n",
       "       [196017,   4687],\n",
       "       [196921,   3783],\n",
       "       ...,\n",
       "       [194566,   6138],\n",
       "       [199332,   1372],\n",
       "       [198806,   1898]])"
      ]
     },
     "execution_count": 30,
     "metadata": {},
     "output_type": "execute_result"
    }
   ],
   "source": [
    "tmp"
   ]
  },
  {
   "cell_type": "code",
   "execution_count": 31,
   "metadata": {},
   "outputs": [
    {
     "data": {
      "text/plain": [
       "array([198267.70333988,   2436.29666012])"
      ]
     },
     "execution_count": 31,
     "metadata": {},
     "output_type": "execute_result"
    }
   ],
   "source": [
    "np.mean(tmp, axis=0)"
   ]
  },
  {
   "cell_type": "code",
   "execution_count": null,
   "metadata": {},
   "outputs": [],
   "source": []
  }
 ],
 "metadata": {
  "kernelspec": {
   "display_name": "Python 3.7.16 ('mmseg2')",
   "language": "python",
   "name": "python3"
  },
  "language_info": {
   "codemirror_mode": {
    "name": "ipython",
    "version": 3
   },
   "file_extension": ".py",
   "mimetype": "text/x-python",
   "name": "python",
   "nbconvert_exporter": "python",
   "pygments_lexer": "ipython3",
   "version": "3.7.16"
  },
  "orig_nbformat": 4,
  "vscode": {
   "interpreter": {
    "hash": "2086e71761e0346d1b2ba579c50f43c8a7cc145636f342809f163fcf7c3af47c"
   }
  }
 },
 "nbformat": 4,
 "nbformat_minor": 2
}
