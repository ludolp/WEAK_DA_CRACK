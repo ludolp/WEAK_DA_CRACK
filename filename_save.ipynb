{
 "cells": [
  {
   "cell_type": "code",
   "execution_count": 10,
   "metadata": {},
   "outputs": [],
   "source": [
    "import os\n",
    "from tqdm import tqdm"
   ]
  },
  {
   "cell_type": "code",
   "execution_count": 15,
   "metadata": {},
   "outputs": [
    {
     "name": "stderr",
     "output_type": "stream",
     "text": [
      "100%|██████████| 49/49 [00:00<00:00, 203889.78it/s]\n"
     ]
    }
   ],
   "source": [
    "# png 파일이 들어있는 디렉토리 경로\n",
    "directory_path = \"/home/user/WindowsShare/05. Data/02. Training&Test/022. Ministry of Ocean/002_2022_인천신여객터미널/leftImg8bit/val\"\n",
    "\n",
    "# 디렉토리 내의 png 파일 목록 가져오기\n",
    "png_files = [file for file in os.listdir(directory_path) if file.startswith('DJI')]\n",
    "\n",
    "# 파일명을 저장할 텍스트 파일 경로\n",
    "output_file_path = \"/home/user/WEAK_DA/weak-da-seg/data/incheon_s_list/val.txt\"\n",
    "\n",
    "# 텍스트 파일 열기 (새로운 파일 생성 또는 이미 존재하는 파일 열기)\n",
    "with open(output_file_path, 'w') as txt_file:\n",
    "    # png 파일명을 한 줄에 하나씩 쓰기\n",
    "    for png_file in tqdm(png_files):\n",
    "        txt_file.write(png_file + '\\n')"
   ]
  },
  {
   "cell_type": "code",
   "execution_count": 19,
   "metadata": {},
   "outputs": [
    {
     "data": {
      "text/plain": [
       "100"
      ]
     },
     "execution_count": 19,
     "metadata": {},
     "output_type": "execute_result"
    }
   ],
   "source": [
    "len(png_files)"
   ]
  },
  {
   "cell_type": "code",
   "execution_count": 41,
   "metadata": {},
   "outputs": [],
   "source": [
    "from PIL import Image, ImageDraw\n",
    "\n",
    "# 이미지 불러오기\n",
    "image_path = \"/home/user/WindowsShare/05. Data/00. Benchmarks/22. KhanhhaCrack/02. Convert To Cityscapes Dataset/leftImg8bit/train/CFD_046_leftImg8bit.png\"  # 이미지 파일 경로를 지정하세요\n",
    "image = Image.open(image_path)\n",
    "\n",
    "# 좌표 선택\n",
    "x0, y0 = 195, 142  # 원하는 좌표를 지정하세요\n",
    "x1, y1 = 482, 485\n",
    "\n",
    "# 이미지에 점 그리기\n",
    "draw = ImageDraw.Draw(image)\n",
    "point_color0 = (0, 0, 255)\n",
    "point_color1 = (255, 0, 0)\n",
    "point_size = 1\n",
    "draw.ellipse([x0 - point_size, y0 - point_size, x0 + point_size, y0 + point_size], fill=point_color0)\n",
    "draw.ellipse([x1 - point_size, y1 - point_size, x1 + point_size, y1 + point_size], fill=point_color1)\n",
    "\n",
    "# 이미지 저장 또는 표시\n",
    "image.show()  # 이미지를 보려면"
   ]
  },
  {
   "cell_type": "code",
   "execution_count": null,
   "metadata": {},
   "outputs": [],
   "source": []
  }
 ],
 "metadata": {
  "kernelspec": {
   "display_name": "Python 3.7.16 ('mmseg2')",
   "language": "python",
   "name": "python3"
  },
  "language_info": {
   "codemirror_mode": {
    "name": "ipython",
    "version": 3
   },
   "file_extension": ".py",
   "mimetype": "text/x-python",
   "name": "python",
   "nbconvert_exporter": "python",
   "pygments_lexer": "ipython3",
   "version": "3.7.16"
  },
  "orig_nbformat": 4,
  "vscode": {
   "interpreter": {
    "hash": "2086e71761e0346d1b2ba579c50f43c8a7cc145636f342809f163fcf7c3af47c"
   }
  }
 },
 "nbformat": 4,
 "nbformat_minor": 2
}
