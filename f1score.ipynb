{
 "cells": [
  {
   "cell_type": "code",
   "execution_count": 56,
   "metadata": {},
   "outputs": [],
   "source": [
    "import os\n",
    "import os.path as osp\n",
    "from PIL import Image\n",
    "import numpy as np\n",
    "from glob import glob\n",
    "from tqdm import tqdm"
   ]
  },
  {
   "cell_type": "code",
   "execution_count": 60,
   "metadata": {},
   "outputs": [],
   "source": [
    "gt_dir = \"/home/user/WEAK_DA/weak-da-seg/datasets/cityscapes/gtFine/val\"\n",
    "infer_dir = \"/home/user/WEAK_DA/weak-da-seg/result/gta5-cityscapes-weakimage-cw-pa-official\""
   ]
  },
  {
   "cell_type": "code",
   "execution_count": 6,
   "metadata": {},
   "outputs": [],
   "source": [
    "infer_list = glob(osp.join(infer_dir, '*.png'))\n",
    "\n",
    "tp = 0\n",
    "tpfp = 0\n",
    "tpfn = 0\n",
    "\n",
    "for infer_path in tqdm(infer_list):\n",
    "    infer = Image.open(infer_path)\n",
    "    infer_arr = np.array(infer)\n",
    "\n",
    "    base_name = osp.basename(infer_path)\n",
    "    base_name = base_name.replace('leftImg8bit_color', 'gtFine_labelIds')\n",
    "\n",
    "    gt_path = osp.join(gt_dir, base_name)\n",
    "    gt = Image.open(gt_path)\n",
    "    gt_arr = np.array(gt)\n",
    "\n",
    "    mul = np.sqrt(np.multiply(gt_arr, infer_arr))\n",
    "\n",
    "    tp_img = len(mul[mul==1])\n",
    "    tpfp_img = len(infer_arr[infer_arr==1])\n",
    "    tpfn_img = len(gt_arr[gt_arr==1])\n",
    "\n",
    "    if tpfp_img == 0:\n",
    "        pass\n",
    "        # print('tpfp_img is zero')\n",
    "    else:\n",
    "        pre_img = tp_img / tpfp_img\n",
    "    \n",
    "    if tpfn_img == 0:\n",
    "        pass\n",
    "        # print('tpfn_img is zero')\n",
    "    else:\n",
    "        recall_img = tp_img / tpfn_img\n",
    "\n",
    "    if tpfp_img !=0 and tpfn_img != 0:\n",
    "        if (pre_img + recall_img) != 0:\n",
    "            f1_img = (2 * pre_img * recall_img) / (pre_img + recall_img)\n",
    "            # print(f\"F1-score of this image is {f1_img}\")\n",
    "\n",
    "    tp = tp + tp_img\n",
    "    tpfp = tpfp + tpfp_img\n",
    "    tpfn = tpfn + tpfn_img\n",
    "    \n",
    "pre = tp / tpfp  # 오탐지\n",
    "recall = tp / tpfn  # 미탐지\n",
    "\n",
    "f1 = (2 * pre * recall) / (pre + recall)\n",
    "\n",
    "print('The precision of crack is ', pre*100, '%')\n",
    "print('The recall of crack is ', recall*100, '%')\n",
    "print('The f1-score of crack is ', f1*100, '%')"
   ]
  },
  {
   "cell_type": "code",
   "execution_count": 61,
   "metadata": {},
   "outputs": [
    {
     "name": "stderr",
     "output_type": "stream",
     "text": [
      "/home/user/anaconda3/envs/mmseg2/lib/python3.7/site-packages/ipykernel_launcher.py:6: DeprecationWarning: `np.int` is a deprecated alias for the builtin `int`. To silence this warning, use `int` by itself. Doing this will not modify any behavior and is safe. When replacing `np.int`, you may wish to use e.g. `np.int64` or `np.int32` to specify the precision. If you wish to review your current use, check the release note link for additional information.\n",
      "Deprecated in NumPy 1.20; for more details and guidance: https://numpy.org/devdocs/release/1.20.0-notes.html#deprecations\n",
      "  \n",
      "100%|██████████| 500/500 [01:04<00:00,  7.81it/s]"
     ]
    },
    {
     "name": "stdout",
     "output_type": "stream",
     "text": [
      "precision_list: [81.40804798 63.97438598 79.10307877 27.3142755  46.43174262 54.97433163\n",
      " 67.45374116 76.51017443 85.16595436 41.02632251 82.7391576  68.17451764\n",
      " 46.87468372 71.19646432 49.61342761 78.30056057 91.48096988 34.60969181\n",
      " 74.56664082]\n",
      "recall_list: [95.14172965 60.63973658 92.76126066 48.26406621 45.68922275 47.63880971\n",
      " 50.2551713  41.66306325 93.36006404 57.0074384  96.62900275 74.25507562\n",
      " 53.45024995 93.13799516 66.27467973 60.12014751 35.49989919 60.10693501\n",
      " 51.99185176]\n",
      "f1_list: [87.74072215 62.262444   85.38945697 34.88560271 46.05749023 51.04437286\n",
      " 57.5980059  53.94873321 89.07495976 47.71428805 89.14628184 71.08500202\n",
      " 49.94697668 80.70244026 56.7463582  68.01643073 51.15046435 43.9264481\n",
      " 61.26586461]\n"
     ]
    },
    {
     "name": "stderr",
     "output_type": "stream",
     "text": [
      "\n"
     ]
    }
   ],
   "source": [
    "# cityscapes\n",
    "import json\n",
    "\n",
    "with open('/home/user/WEAK_DA/weak-da-seg/data/cityscapes_list/info.json', 'r') as fp:\n",
    "    info = json.load(fp)\n",
    "mapping = np.array(info['label2train'], dtype=np.int)\n",
    "\n",
    "def label_mapping(input, mapping):\n",
    "    output = np.copy(input)\n",
    "    for ind in range(len(mapping)):\n",
    "        output[input == mapping[ind][0]] = mapping[ind][1]\n",
    "    return np.array(output, dtype=np.int64)\n",
    "\n",
    "infer_list = glob(osp.join(infer_dir, '*.png'))\n",
    "\n",
    "num_classes = 19\n",
    "\n",
    "tp_list = np.zeros(num_classes, dtype=np.int32)\n",
    "tpfp_list = np.zeros(num_classes, dtype=np.int32)\n",
    "tpfn_list = np.zeros(num_classes, dtype=np.int32)\n",
    "\n",
    "for infer_path in tqdm(infer_list):\n",
    "    infer = Image.open(infer_path)\n",
    "    infer_arr = np.array(infer)\n",
    "\n",
    "    base_name = osp.basename(infer_path)\n",
    "    city = base_name.split('_')[0]\n",
    "    base_name = base_name.replace('_leftImg8bit_color', '_gtFine_labelIds')\n",
    "    base_name = city + '/' + base_name\n",
    "\n",
    "    gt_path = osp.join(gt_dir, base_name)\n",
    "    gt = Image.open(gt_path)\n",
    "    gt_arr = np.array(gt)\n",
    "\n",
    "    gt_arr = label_mapping(gt_arr, mapping)\n",
    "\n",
    "    # mul = np.sqrt(np.multiply(gt_arr, infer_arr))\n",
    "\n",
    "    for i in range(num_classes):\n",
    "        tp_img = np.sum((infer_arr==i) & (gt_arr==i))\n",
    "        tpfp_img = len(infer_arr[infer_arr==i])\n",
    "        tpfn_img = len(gt_arr[gt_arr==i])\n",
    "\n",
    "        if tpfp_img == 0:\n",
    "            pass\n",
    "        else:\n",
    "            pre_img = tp_img / tpfp_img\n",
    "\n",
    "        if tpfn_img == 0:\n",
    "            pass\n",
    "        else:\n",
    "            recall_img = tp_img / tpfn_img\n",
    "\n",
    "        if tpfp_img !=0 and tpfn_img != 0:\n",
    "            if (pre_img + recall_img) != 0:\n",
    "                f1_img = (2 * pre_img * recall_img) / (pre_img + recall_img)\n",
    "\n",
    "        tp_list[i] += tp_img\n",
    "        tpfp_list[i] += tpfp_img\n",
    "        tpfn_list[i] += tpfn_img\n",
    "    \n",
    "precision_list = tp_list / tpfp_list\n",
    "recall_list = tp_list / tpfn_list\n",
    "f1_list = (2 * precision_list * recall_list) / (precision_list + recall_list)\n",
    "\n",
    "print('precision_list:', precision_list*100)\n",
    "print('recall_list:', recall_list*100)\n",
    "print('f1_list:', f1_list*100)"
   ]
  },
  {
   "cell_type": "code",
   "execution_count": 53,
   "metadata": {},
   "outputs": [
    {
     "data": {
      "text/plain": [
       "61.124387168270836"
      ]
     },
     "execution_count": 53,
     "metadata": {},
     "output_type": "execute_result"
    }
   ],
   "source": [
    "np.mean(f1_list)*100"
   ]
  },
  {
   "cell_type": "code",
   "execution_count": 90,
   "metadata": {},
   "outputs": [
    {
     "name": "stderr",
     "output_type": "stream",
     "text": [
      "100%|██████████| 2320/2320 [00:11<00:00, 206.74it/s]"
     ]
    },
    {
     "name": "stdout",
     "output_type": "stream",
     "text": [
      "The precision of crack is  31.131888645913087 %\n",
      "The recall of crack is  20.58615546667772 %\n",
      "The f1-score of crack is  24.783841331696514 %\n"
     ]
    },
    {
     "name": "stderr",
     "output_type": "stream",
     "text": [
      "\n"
     ]
    }
   ],
   "source": [
    "# CRACK500_20160222_080850_641_361_leftImg8bit_quarter_1_color.png\n",
    "# CRACK500_20160222_080850_641_361_gtFine_labelIds_quarter_1.png\n",
    "\n",
    "infer_list = glob(osp.join(infer_dir, 'CRACK500*'))\n",
    "\n",
    "tp = 0\n",
    "tpfp = 0\n",
    "tpfn = 0\n",
    "\n",
    "for infer_path in tqdm(infer_list):\n",
    "    infer = Image.open(infer_path)\n",
    "    infer_arr = np.array(infer)\n",
    "\n",
    "    base_name = osp.basename(infer_path)\n",
    "    base_name = base_name.replace('_leftImg8bit_', '_gtFine_labelIds_')\n",
    "    base_name = base_name.replace('_color.png', '.png')\n",
    "\n",
    "    gt_path = osp.join(gt_dir, base_name)\n",
    "    gt = Image.open(gt_path)\n",
    "    gt_arr = np.array(gt)\n",
    "\n",
    "    mul = np.sqrt(np.multiply(gt_arr, infer_arr))\n",
    "\n",
    "    tp_img = len(mul[mul==1])\n",
    "    tpfp_img = len(infer_arr[infer_arr==1])\n",
    "    tpfn_img = len(gt_arr[gt_arr==1])\n",
    "\n",
    "    if tpfp_img == 0:\n",
    "        pass\n",
    "        # print('tpfp_img is zero')\n",
    "    else:\n",
    "        pre_img = tp_img / tpfp_img\n",
    "    \n",
    "    if tpfn_img == 0:\n",
    "        pass\n",
    "        # print('tpfn_img is zero')\n",
    "    else:\n",
    "        recall_img = tp_img / tpfn_img\n",
    "\n",
    "    if tpfp_img !=0 and tpfn_img != 0:\n",
    "        if (pre_img + recall_img) != 0:\n",
    "            f1_img = (2 * pre_img * recall_img) / (pre_img + recall_img)\n",
    "            # print(f\"F1-score of this image is {f1_img}\")\n",
    "\n",
    "    tp = tp + tp_img\n",
    "    tpfp = tpfp + tpfp_img\n",
    "    tpfn = tpfn + tpfn_img\n",
    "    \n",
    "pre = tp / tpfp  # 오탐지\n",
    "recall = tp / tpfn  # 미탐지\n",
    "\n",
    "f1 = (2 * pre * recall) / (pre + recall)\n",
    "\n",
    "print('The precision of crack is ', pre*100, '%')\n",
    "print('The recall of crack is ', recall*100, '%')\n",
    "print('The f1-score of crack is ', f1*100, '%')"
   ]
  },
  {
   "cell_type": "code",
   "execution_count": null,
   "metadata": {},
   "outputs": [],
   "source": []
  }
 ],
 "metadata": {
  "kernelspec": {
   "display_name": "Python 3.7.16 ('mmseg2')",
   "language": "python",
   "name": "python3"
  },
  "language_info": {
   "codemirror_mode": {
    "name": "ipython",
    "version": 3
   },
   "file_extension": ".py",
   "mimetype": "text/x-python",
   "name": "python",
   "nbconvert_exporter": "python",
   "pygments_lexer": "ipython3",
   "version": "3.7.16"
  },
  "orig_nbformat": 4,
  "vscode": {
   "interpreter": {
    "hash": "2086e71761e0346d1b2ba579c50f43c8a7cc145636f342809f163fcf7c3af47c"
   }
  }
 },
 "nbformat": 4,
 "nbformat_minor": 2
}
