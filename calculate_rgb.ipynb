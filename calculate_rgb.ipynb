{
 "cells": [
  {
   "cell_type": "code",
   "execution_count": 2,
   "metadata": {},
   "outputs": [
    {
     "name": "stderr",
     "output_type": "stream",
     "text": [
      "100%|██████████| 598/598 [03:06<00:00,  3.21it/s]"
     ]
    },
    {
     "name": "stdout",
     "output_type": "stream",
     "text": [
      "[138.14046 137.48306 131.4548 ] [44.734947 42.97031  43.756325]\n"
     ]
    },
    {
     "name": "stderr",
     "output_type": "stream",
     "text": [
      "\n"
     ]
    }
   ],
   "source": [
    "import cv2\n",
    "import numpy as np\n",
    "import glob\n",
    "from tqdm import tqdm\n",
    "import os\n",
    "\n",
    "# 이미지 데이터셋이 있는 디렉토리 경로\n",
    "dataset_dir1 = '/home/user/WindowsShare/05. Data/02. Training&Test/022. Ministry of Ocean/002_2022_인천신여객터미널/leftImg8bit/train'\n",
    "dataset_dir2 = '/home/user/WindowsShare/05. Data/02. Training&Test/022. Ministry of Ocean/002_2022_인천신여객터미널/leftImg8bit/val'\n",
    "\n",
    "# 이미지 파일 목록\n",
    "image_files1 = [os.path.join(dataset_dir1, filename) for filename in os.listdir(dataset_dir1) if filename.endswith('_leftImg8bit.png')]\n",
    "image_files2 = [os.path.join(dataset_dir2, filename) for filename in os.listdir(dataset_dir2) if filename.endswith('_leftImg8bit.png')]\n",
    "image_files = image_files1 + image_files2\n",
    "\n",
    "img_norm = list()\n",
    "img_std = list()\n",
    "for data in tqdm(image_files):\n",
    "    img = cv2.imread(data, cv2.IMREAD_COLOR)\n",
    "    img = cv2.cvtColor(img, cv2.COLOR_BGR2RGB).astype(np.float32)\n",
    "    if len(img.shape) <2: # 흑백 이미지는 제외\n",
    "        continue\n",
    "    mean,std = np.mean(img, axis=(0,1)), np.std(img, axis=(0,1))\n",
    "    img_norm.append(mean)\n",
    "    img_std.append(std)\n",
    "\n",
    "print(np.mean(img_norm, axis=0), np.mean(img_std, axis=0))"
   ]
  },
  {
   "cell_type": "code",
   "execution_count": null,
   "metadata": {},
   "outputs": [],
   "source": []
  },
  {
   "cell_type": "code",
   "execution_count": 3,
   "metadata": {},
   "outputs": [
    {
     "name": "stdout",
     "output_type": "stream",
     "text": [
      "평균(Mean): [120.11962108 130.6978745  137.02111115]\n",
      "표준 편차(Standard Deviation): [39.03891851 34.82510309 34.42971648]\n"
     ]
    }
   ],
   "source": [
    "# 이미지 데이터셋이 있는 디렉토리 경로\n",
    "dataset_dir1 = '/home/user/WindowsShare/05. Data/00. Benchmarks/27. crackseg9k/convert2cityscapes/leftImg8bit/train'\n",
    "dataset_dir2 = '/home/user/WindowsShare/05. Data/00. Benchmarks/27. crackseg9k/convert2cityscapes/leftImg8bit/val'\n",
    "\n",
    "# 이미지 파일 목록\n",
    "image_files1 = [os.path.join(dataset_dir1, filename) for filename in os.listdir(dataset_dir1) if filename.startswith('Rissbilder') or filename.startswith('noncrack')]\n",
    "image_files2 = [os.path.join(dataset_dir2, filename) for filename in os.listdir(dataset_dir2) if filename.startswith('Rissbilder')]\n",
    "image_files = image_files1 + image_files2\n",
    "\n",
    "# 이미지 데이터를 저장할 리스트\n",
    "image_data = []\n",
    "\n",
    "# 이미지 파일을 읽어와서 리스트에 추가\n",
    "for image_file in image_files:\n",
    "    image = cv2.imread(image_file)\n",
    "    image = cv2.cvtColor(image, cv2.COLOR_BGR2RGB)  # 이미지를 RGB 형식으로 변환\n",
    "    image_data.append(image)\n",
    "\n",
    "# 이미지 데이터를 NumPy 배열로 변환\n",
    "image_data = np.array(image_data)\n",
    "\n",
    "# 각 채널(예: RGB)에 대한 평균과 표준 편차 계산\n",
    "mean = np.mean(image_data, axis=(0, 1, 2))\n",
    "std = np.std(image_data, axis=(0, 1, 2))\n",
    "\n",
    "# 결과 출력\n",
    "print(\"평균(Mean):\", mean)\n",
    "print(\"표준 편차(Standard Deviation):\", std)"
   ]
  },
  {
   "cell_type": "code",
   "execution_count": 12,
   "metadata": {},
   "outputs": [
    {
     "data": {
      "text/plain": [
       "206"
      ]
     },
     "execution_count": 12,
     "metadata": {},
     "output_type": "execute_result"
    }
   ],
   "source": [
    "len(image_files)"
   ]
  },
  {
   "cell_type": "code",
   "execution_count": 47,
   "metadata": {},
   "outputs": [
    {
     "data": {
      "text/plain": [
       "(3024, 4032, 3)"
      ]
     },
     "execution_count": 47,
     "metadata": {},
     "output_type": "execute_result"
    }
   ],
   "source": [
    "image.shape"
   ]
  },
  {
   "cell_type": "code",
   "execution_count": 29,
   "metadata": {},
   "outputs": [
    {
     "data": {
      "text/plain": [
       "array([[1023318,   25258],\n",
       "       [ 986582,   61994],\n",
       "       [1012199,   36377],\n",
       "       ...,\n",
       "       [ 958043,   90533],\n",
       "       [ 956299,   92277],\n",
       "       [ 878601,  169975]])"
      ]
     },
     "execution_count": 29,
     "metadata": {},
     "output_type": "execute_result"
    }
   ],
   "source": [
    "# check etc\n",
    "\n",
    "tmp = np.load('pixel_counts/deepcrack_target_pixel_counts.npy')\n",
    "tmp"
   ]
  },
  {
   "cell_type": "code",
   "execution_count": 30,
   "metadata": {},
   "outputs": [],
   "source": [
    "PER_TH = 0.1\n",
    "num_class = 2\n",
    "\n",
    "m = np.zeros(num_class)"
   ]
  },
  {
   "cell_type": "code",
   "execution_count": 31,
   "metadata": {},
   "outputs": [],
   "source": [
    "for i in range(10):\n",
    "        counts = [tmp[tmp[:, i] > PER_TH*m[i], i] for i in range(num_class)]\n",
    "        m = [np.mean(c) for c in counts]"
   ]
  },
  {
   "cell_type": "code",
   "execution_count": 32,
   "metadata": {},
   "outputs": [
    {
     "data": {
      "text/plain": [
       "[1011031.7619961612, 37744.69305019305]"
      ]
     },
     "execution_count": 32,
     "metadata": {},
     "output_type": "execute_result"
    }
   ],
   "source": [
    "m"
   ]
  },
  {
   "cell_type": "code",
   "execution_count": 33,
   "metadata": {},
   "outputs": [
    {
     "data": {
      "text/plain": [
       "array([0., 0.])"
      ]
     },
     "execution_count": 33,
     "metadata": {},
     "output_type": "execute_result"
    }
   ],
   "source": [
    "np.zeros(num_class)"
   ]
  },
  {
   "cell_type": "code",
   "execution_count": 35,
   "metadata": {},
   "outputs": [
    {
     "data": {
      "text/plain": [
       "array([1011031.76199616,   37544.23800384])"
      ]
     },
     "execution_count": 35,
     "metadata": {},
     "output_type": "execute_result"
    }
   ],
   "source": [
    "np.mean(tmp, axis=0)"
   ]
  },
  {
   "cell_type": "code",
   "execution_count": 36,
   "metadata": {},
   "outputs": [
    {
     "data": {
      "text/plain": [
       "array([[0, 0, 0, ..., 0, 0, 0],\n",
       "       [0, 0, 0, ..., 0, 0, 0],\n",
       "       [0, 0, 0, ..., 0, 0, 0],\n",
       "       ...,\n",
       "       [0, 0, 0, ..., 0, 0, 0],\n",
       "       [0, 0, 0, ..., 0, 0, 0],\n",
       "       [0, 0, 0, ..., 0, 0, 0]])"
      ]
     },
     "execution_count": 36,
     "metadata": {},
     "output_type": "execute_result"
    }
   ],
   "source": [
    "lbl = np.zeros((512, 512), dtype=int)\n",
    "lbl"
   ]
  },
  {
   "cell_type": "code",
   "execution_count": 40,
   "metadata": {},
   "outputs": [
    {
     "data": {
      "text/plain": [
       "0"
      ]
     },
     "execution_count": 40,
     "metadata": {},
     "output_type": "execute_result"
    }
   ],
   "source": [
    "np.sum(lbl == 1)"
   ]
  },
  {
   "cell_type": "code",
   "execution_count": null,
   "metadata": {},
   "outputs": [],
   "source": [
    "[np.sum(lbl == i) > PER_TH * counts[i] for i in range(num_class)]"
   ]
  },
  {
   "cell_type": "code",
   "execution_count": 39,
   "metadata": {},
   "outputs": [
    {
     "data": {
      "text/plain": [
       "262144"
      ]
     },
     "execution_count": 39,
     "metadata": {},
     "output_type": "execute_result"
    }
   ],
   "source": [
    "512*512"
   ]
  },
  {
   "cell_type": "code",
   "execution_count": null,
   "metadata": {},
   "outputs": [],
   "source": []
  }
 ],
 "metadata": {
  "kernelspec": {
   "display_name": "Python 3.7.16 ('mmseg2')",
   "language": "python",
   "name": "python3"
  },
  "language_info": {
   "codemirror_mode": {
    "name": "ipython",
    "version": 3
   },
   "file_extension": ".py",
   "mimetype": "text/x-python",
   "name": "python",
   "nbconvert_exporter": "python",
   "pygments_lexer": "ipython3",
   "version": "3.7.16"
  },
  "orig_nbformat": 4,
  "vscode": {
   "interpreter": {
    "hash": "2086e71761e0346d1b2ba579c50f43c8a7cc145636f342809f163fcf7c3af47c"
   }
  }
 },
 "nbformat": 4,
 "nbformat_minor": 2
}
