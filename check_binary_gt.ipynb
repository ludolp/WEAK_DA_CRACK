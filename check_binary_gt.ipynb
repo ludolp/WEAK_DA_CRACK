{
 "cells": [
  {
   "cell_type": "code",
   "execution_count": 14,
   "metadata": {},
   "outputs": [
    {
     "name": "stderr",
     "output_type": "stream",
     "text": [
      "100%|██████████| 550/550 [00:50<00:00, 10.86it/s]\n",
      "100%|██████████| 48/48 [00:03<00:00, 13.80it/s]"
     ]
    },
    {
     "name": "stdout",
     "output_type": "stream",
     "text": [
      "noncrack num:  295\n"
     ]
    },
    {
     "name": "stderr",
     "output_type": "stream",
     "text": [
      "\n"
     ]
    }
   ],
   "source": [
    "# 하위 폴더 있을 때\n",
    "\n",
    "import os\n",
    "import numpy as np\n",
    "from PIL import Image\n",
    "from tqdm import tqdm\n",
    "\n",
    "# 상위 폴더 경로 설정\n",
    "parent_folder = '/home/user/WindowsShare/05. Data/02. Training&Test/022. Ministry of Ocean/002_2022_인천신여객터미널/gtFine'\n",
    "\n",
    "# 상위 폴더 내의 모든 하위 폴더 리스트 가져오기\n",
    "subfolders = [f for f in os.listdir(parent_folder) if os.path.isdir(os.path.join(parent_folder, f))]\n",
    "\n",
    "# 각 하위 폴더에서 이미지 처리\n",
    "noncrack_num = 0\n",
    "for subfolder in subfolders:\n",
    "    subfolder_path = os.path.join(parent_folder, subfolder)\n",
    "\n",
    "    # 각 폴더 내의 모든 파일 리스트 가져오기\n",
    "    file_list = os.listdir(subfolder_path)\n",
    "\n",
    "    # PNG 파일만 선택\n",
    "    png_files = [f for f in file_list if f.endswith('_gtFine_labelIds.png')]\n",
    "\n",
    "    # 클래스별 픽셀 개수 계산 및 저장\n",
    "    for png_file in tqdm(png_files):\n",
    "        # 이미지 열기\n",
    "        image = Image.open(os.path.join(subfolder_path, png_file))\n",
    "\n",
    "        # 이미지를 NumPy 배열로 변환\n",
    "        img_array = np.array(image)\n",
    "\n",
    "        if not np.array_equal(np.unique(img_array), np.array([0, 1])):\n",
    "            # print(os.path.join(subfolder_path, png_file))\n",
    "            # print(np.unique(img_array))\n",
    "            if np.array_equal(np.unique(img_array), np.array([0])):\n",
    "                noncrack_num += 1\n",
    "\n",
    "print('noncrack num: ', noncrack_num)"
   ]
  },
  {
   "cell_type": "code",
   "execution_count": 58,
   "metadata": {},
   "outputs": [
    {
     "data": {
      "text/plain": [
       "(448, 448)"
      ]
     },
     "execution_count": 58,
     "metadata": {},
     "output_type": "execute_result"
    }
   ],
   "source": [
    "img_array.shape"
   ]
  },
  {
   "cell_type": "code",
   "execution_count": 1,
   "metadata": {},
   "outputs": [
    {
     "name": "stdout",
     "output_type": "stream",
     "text": [
      "2174\n",
      "15\n"
     ]
    }
   ],
   "source": [
    "# 하위 폴더 없을 때\n",
    "\n",
    "import os\n",
    "import numpy as np\n",
    "from PIL import Image\n",
    "\n",
    "# 상위 폴더 경로 설정\n",
    "parent_folder = '/home/user/WindowsShare/05. Data/00. Benchmarks/27. crackseg9k/convert2cityscapes/gtFine/train'\n",
    "\n",
    "# 각 폴더 내의 모든 파일 리스트 가져오기\n",
    "file_list = os.listdir(parent_folder)\n",
    "\n",
    "# 파일 선택\n",
    "png_files = [f for f in file_list if f.startswith('Rissbilder')]\n",
    "\n",
    "crack = 0\n",
    "noncrack = 0\n",
    "\n",
    "# 클래스별 픽셀 개수 계산\n",
    "for png_file in png_files:\n",
    "    # 이미지 열기\n",
    "    image = Image.open(os.path.join(parent_folder, png_file))\n",
    "\n",
    "    # 이미지를 NumPy 배열로 변환\n",
    "    img_array = np.array(image)\n",
    "\n",
    "    if np.array_equal(np.unique(img_array), np.array([0, 1])):\n",
    "        crack += 1\n",
    "    elif np.array_equal(np.unique(img_array), np.array([0])):\n",
    "        noncrack += 1\n",
    "        # print(os.path.join(parent_folder, png_file))\n",
    "        # print(np.unique(img_array))\n",
    "\n",
    "print(crack)\n",
    "print(noncrack)"
   ]
  },
  {
   "cell_type": "code",
   "execution_count": 20,
   "metadata": {},
   "outputs": [],
   "source": [
    "# 원소 값 변경 (하위 폴더 있을 때)\n",
    "\n",
    "import os\n",
    "import numpy as np\n",
    "from PIL import Image\n",
    "\n",
    "# 상위 폴더 경로 설정\n",
    "parent_folder = '/home/user/WindowsShare/05. Data/00. Benchmarks/23. KaggleCrack/03. Cityscapes Dataset/gtFine'\n",
    "output_folder = '/home/user/WindowsShare/05. Data/00. Benchmarks/23. KaggleCrack/03. Cityscapes Dataset/modified_gtFine'\n",
    "\n",
    "# 클래스별 픽셀 개수를 저장할 빈 NumPy 배열 생성\n",
    "class_pixel_counts = []\n",
    "\n",
    "# 상위 폴더 내의 모든 하위 폴더 리스트 가져오기\n",
    "subfolders = [f for f in os.listdir(parent_folder) if os.path.isdir(os.path.join(parent_folder, f))]\n",
    "\n",
    "# 각 하위 폴더에서 이미지 처리\n",
    "for subfolder in subfolders:\n",
    "    subfolder_path = os.path.join(parent_folder, subfolder)\n",
    "\n",
    "    # 각 폴더 내의 모든 파일 리스트 가져오기\n",
    "    file_list = os.listdir(subfolder_path)\n",
    "\n",
    "    # PNG 파일만 선택\n",
    "    png_files = [f for f in file_list if f.endswith('_gtFine_labelIds.png')]\n",
    "\n",
    "    # 클래스별 픽셀 개수 계산 및 저장\n",
    "    for png_file in png_files:\n",
    "        # 이미지 열기\n",
    "        image = Image.open(os.path.join(subfolder_path, png_file))\n",
    "\n",
    "        # 이미지를 NumPy 배열로 변환\n",
    "        img_array = np.array(image)\n",
    "\n",
    "        # NumPy 배열 내에서 2의 값을 가지는 픽셀을 1로 변경\n",
    "        img_array[img_array == 2] = 1\n",
    "\n",
    "        # 변경된 NumPy 배열을 이미지로 변환\n",
    "        modified_image = Image.fromarray(img_array)\n",
    "\n",
    "        # 이미지를 PNG 파일로 저장\n",
    "        modified_image.save(os.path.join(output_folder, subfolder, png_file))\n",
    "        "
   ]
  },
  {
   "cell_type": "code",
   "execution_count": 52,
   "metadata": {},
   "outputs": [
    {
     "name": "stderr",
     "output_type": "stream",
     "text": [
      "100%|██████████| 1695/1695 [00:29<00:00, 56.64it/s]\n"
     ]
    }
   ],
   "source": [
    "# 원소 값 변경 (하위 폴더 없을 때)\n",
    "\n",
    "import os\n",
    "import numpy as np\n",
    "from PIL import Image\n",
    "from tqdm import tqdm\n",
    "\n",
    "# 상위 폴더 경로 설정\n",
    "parent_folder = '/home/user/WindowsShare/05. Data/00. Benchmarks/22. KhanhhaCrack/01. Original Data Downloaded from GitHub Repo/val/masks'\n",
    "modified_folder = '/home/user/WindowsShare/05. Data/00. Benchmarks/22. KhanhhaCrack/04. convert2cityscapes/gtFine/val'\n",
    "\n",
    "# 각 폴더 내의 모든 파일 리스트 가져오기\n",
    "file_list = os.listdir(parent_folder)\n",
    "\n",
    "# 파일 선택\n",
    "png_files = [f for f in file_list if f.endswith('.jpg')]\n",
    "\n",
    "# 클래스별 픽셀 개수 계산 및 저장\n",
    "for png_file in tqdm(png_files):\n",
    "    # 이미지 열기\n",
    "    image = Image.open(os.path.join(parent_folder, png_file))\n",
    "\n",
    "    # 이미지를 NumPy 배열로 변환\n",
    "    img_array = np.array(image) / 255\n",
    "\n",
    "    modified_array = np.where(img_array < 0.3, 0, 1).astype(np.uint8)\n",
    "\n",
    "    modified_img = Image.fromarray(modified_array)\n",
    "\n",
    "    file_name = png_file.replace('.jpg', '_gtFine_labelIds.png')\n",
    "\n",
    "    modified_img.save(os.path.join(modified_folder, file_name))"
   ]
  },
  {
   "cell_type": "code",
   "execution_count": 49,
   "metadata": {},
   "outputs": [
    {
     "name": "stderr",
     "output_type": "stream",
     "text": [
      "100%|██████████| 1304/1304 [00:13<00:00, 95.42it/s] \n"
     ]
    }
   ],
   "source": [
    "# 확장자만 변경\n",
    "\n",
    "import os\n",
    "import shutil\n",
    "from tqdm import tqdm\n",
    "\n",
    "# 원본 이미지 파일이 있는 폴더 경로\n",
    "source_folder = \"/home/user/WindowsShare/05. Data/00. Benchmarks/22. KhanhhaCrack/01. Original Data Downloaded from GitHub Repo/train/images\"\n",
    "\n",
    "# 변경된 이미지 파일을 저장할 폴더 경로\n",
    "destination_folder = \"/home/user/WindowsShare/05. Data/00. Benchmarks/22. KhanhhaCrack/04. convert2cityscapes/leftImg8bit/train\"\n",
    "\n",
    "# 변경할 확장자\n",
    "new_extension = \"_leftImg8bit.png\"  # 새 확장자로 변경\n",
    "\n",
    "# 원본 폴더 내의 모든 파일 목록 가져오기\n",
    "file_list = os.listdir(source_folder)\n",
    "\n",
    "# 이미지 파일 필터링 및 확장자 변경 및 저장\n",
    "for filename in tqdm(file_list):\n",
    "    if filename.lower().endswith(\".jpg\"):\n",
    "        # 이미지 파일인 경우에만 처리\n",
    "        old_path = os.path.join(source_folder, filename)\n",
    "        new_filename = os.path.splitext(filename)[0] + new_extension  # 확장자 변경\n",
    "        new_path = os.path.join(destination_folder, new_filename)\n",
    "        \n",
    "        # 이미지 파일을 목적 폴더로 복사\n",
    "        shutil.copy(old_path, new_path)"
   ]
  },
  {
   "cell_type": "code",
   "execution_count": 25,
   "metadata": {},
   "outputs": [],
   "source": [
    "import shutil\n",
    "\n",
    "# 원본 이미지 파일이 있는 폴더 경로\n",
    "source_folder = \"/home/user/WindowsShare/05. Data/00. Benchmarks/27. crackseg9k/convert2cityscapes/leftImg8bit\"\n",
    "\n",
    "# 대상 train 및 val 폴더 경로\n",
    "train_folder = \"/home/user/WindowsShare/05. Data/00. Benchmarks/27. crackseg9k/convert2cityscapes/leftImg8bit/train\"\n",
    "val_folder = \"/home/user/WindowsShare/05. Data/00. Benchmarks/27. crackseg9k/convert2cityscapes/leftImg8bit/val\"\n",
    "\n",
    "# train 폴더 생성\n",
    "if not os.path.exists(train_folder):\n",
    "    os.mkdir(train_folder)\n",
    "\n",
    "# val 폴더 생성\n",
    "if not os.path.exists(val_folder):\n",
    "    os.mkdir(val_folder)\n",
    "\n",
    "# train.txt 파일과 val.txt 파일 경로\n",
    "train_txt = \"/home/user/WindowsShare/05. Data/00. Benchmarks/27. crackseg9k/Final_Dataset/train.txt\"\n",
    "val_txt = \"/home/user/WindowsShare/05. Data/00. Benchmarks/27. crackseg9k/Final_Dataset/test.txt\"\n",
    "\n",
    "# train.txt 파일 처리\n",
    "with open(train_txt, \"r\") as train_file:\n",
    "    train_files = train_file.read().splitlines()\n",
    "\n",
    "for filename in train_files:\n",
    "    filename = filename.replace(\".png\", \"_leftImg8bit.png\")\n",
    "    source_path = os.path.join(source_folder, filename)\n",
    "    dest_path = os.path.join(train_folder, filename)\n",
    "    if os.path.exists(source_path):\n",
    "        shutil.move(source_path, dest_path)\n",
    "\n",
    "# val.txt 파일 처리\n",
    "with open(val_txt, \"r\") as val_file:\n",
    "    val_files = val_file.read().splitlines()\n",
    "\n",
    "for filename in val_files:\n",
    "    filename = filename.replace(\".png\", \"_leftImg8bit.png\")\n",
    "    source_path = os.path.join(source_folder, filename)\n",
    "    dest_path = os.path.join(val_folder, filename)\n",
    "    if os.path.exists(source_path):\n",
    "        shutil.move(source_path, dest_path)"
   ]
  },
  {
   "cell_type": "code",
   "execution_count": 35,
   "metadata": {},
   "outputs": [],
   "source": [
    "import shutil\n",
    "\n",
    "# 원본 이미지 파일이 있는 폴더 경로\n",
    "source_folder = \"/home/user/WindowsShare/05. Data/00. Benchmarks/27. crackseg9k/convert2cityscapes/gtFine\"\n",
    "\n",
    "# 대상 train 및 val 폴더 경로\n",
    "train_folder = \"/home/user/WindowsShare/05. Data/00. Benchmarks/27. crackseg9k/convert2cityscapes/gtFine/train\"\n",
    "val_folder = \"/home/user/WindowsShare/05. Data/00. Benchmarks/27. crackseg9k/convert2cityscapes/gtFine/val\"\n",
    "\n",
    "# train 폴더 생성\n",
    "if not os.path.exists(train_folder):\n",
    "    os.mkdir(train_folder)\n",
    "\n",
    "# val 폴더 생성\n",
    "if not os.path.exists(val_folder):\n",
    "    os.mkdir(val_folder)\n",
    "\n",
    "# train.txt 파일과 val.txt 파일 경로\n",
    "train_txt = \"/home/user/WindowsShare/05. Data/00. Benchmarks/27. crackseg9k/Final_Dataset/train.txt\"\n",
    "val_txt = \"/home/user/WindowsShare/05. Data/00. Benchmarks/27. crackseg9k/Final_Dataset/test.txt\"\n",
    "\n",
    "# train.txt 파일 처리\n",
    "with open(train_txt, \"r\") as train_file:\n",
    "    train_files = train_file.read().splitlines()\n",
    "\n",
    "for filename in train_files:\n",
    "    filename = filename.replace('.png', '_gtFine_labelIds.png')\n",
    "    source_path = os.path.join(source_folder, filename)\n",
    "    dest_path = os.path.join(train_folder, filename)\n",
    "    if os.path.exists(source_path):\n",
    "        shutil.move(source_path, dest_path)\n",
    "\n",
    "# val.txt 파일 처리\n",
    "with open(val_txt, \"r\") as val_file:\n",
    "    val_files = val_file.read().splitlines()\n",
    "\n",
    "for filename in val_files:\n",
    "    filename = filename.replace('.png', '_gtFine_labelIds.png')\n",
    "    source_path = os.path.join(source_folder, filename)\n",
    "    dest_path = os.path.join(val_folder, filename)\n",
    "    if os.path.exists(source_path):\n",
    "        shutil.move(source_path, dest_path)"
   ]
  },
  {
   "cell_type": "code",
   "execution_count": 6,
   "metadata": {},
   "outputs": [
    {
     "data": {
      "text/plain": [
       "array([0, 1, 3], dtype=uint8)"
      ]
     },
     "execution_count": 6,
     "metadata": {},
     "output_type": "execute_result"
    }
   ],
   "source": [
    "# 이미지 1장 확인\n",
    "\n",
    "import numpy as np\n",
    "from PIL import Image\n",
    "\n",
    "image = Image.open(\"/home/user/WindowsShare/05. Data/02. Training&Test/022. Ministry of Ocean/001_2021_물양장&도로공사&균열Negative/gtFine/train/DSCN0057 029__0,3072)__gtFine_labelIds.png\")\n",
    "img_array = np.array(image)\n",
    "\n",
    "np.unique(img_array)"
   ]
  },
  {
   "cell_type": "code",
   "execution_count": 7,
   "metadata": {},
   "outputs": [
    {
     "data": {
      "text/plain": [
       "array([[0, 0, 0, ..., 0, 0, 0],\n",
       "       [0, 0, 0, ..., 0, 0, 0],\n",
       "       [0, 0, 0, ..., 0, 0, 0],\n",
       "       ...,\n",
       "       [0, 0, 0, ..., 0, 0, 0],\n",
       "       [0, 0, 0, ..., 0, 0, 0],\n",
       "       [0, 0, 0, ..., 0, 0, 0]], dtype=uint8)"
      ]
     },
     "execution_count": 7,
     "metadata": {},
     "output_type": "execute_result"
    }
   ],
   "source": [
    "img_array"
   ]
  },
  {
   "cell_type": "code",
   "execution_count": 12,
   "metadata": {},
   "outputs": [
    {
     "name": "stderr",
     "output_type": "stream",
     "text": [
      "100%|██████████| 294/294 [06:12<00:00,  1.27s/it]\n"
     ]
    }
   ],
   "source": [
    "# 손상 없는 이미지 gt 생성\n",
    "\n",
    "from PIL import Image\n",
    "import os\n",
    "import numpy as np\n",
    "from tqdm import tqdm\n",
    "\n",
    "input_folder = \"/home/user/no_damage\"\n",
    "output_folder = \"/home/user/WindowsShare/05. Data/02. Training&Test/022. Ministry of Ocean/002_2022_인천신여객터미널\"\n",
    "\n",
    "for filename in tqdm(os.listdir(input_folder)):\n",
    "    if filename.endswith(\".png\"):\n",
    "        img_path = os.path.join(input_folder, filename)\n",
    "        img = Image.open(img_path)\n",
    "\n",
    "        new_filename_img = filename.replace('.png', '_leftImg8bit.png')\n",
    "        output_path_img = os.path.join(output_folder, 'leftImg8bit', 'train', new_filename_img)\n",
    "        img.save(output_path_img)\n",
    "\n",
    "        gt = np.zeros((np.array(img).shape[0], np.array(img).shape[1]), dtype=np.uint8)\n",
    "        gt = Image.fromarray(gt)\n",
    "        new_filename_gt = new_filename_img.replace('_leftImg8bit.png', '_gtFine_labelIds.png')\n",
    "        output_path_gt = os.path.join(output_folder, 'gtFine', 'train', new_filename_gt)\n",
    "        gt.save(output_path_gt)"
   ]
  },
  {
   "cell_type": "code",
   "execution_count": 8,
   "metadata": {},
   "outputs": [
    {
     "data": {
      "text/plain": [
       "2048"
      ]
     },
     "execution_count": 8,
     "metadata": {},
     "output_type": "execute_result"
    }
   ],
   "source": [
    "np.array(img).shape[0]"
   ]
  },
  {
   "cell_type": "code",
   "execution_count": 11,
   "metadata": {},
   "outputs": [
    {
     "data": {
      "text/plain": [
       "array([[0., 0., 0., ..., 0., 0., 0.],\n",
       "       [0., 0., 0., ..., 0., 0., 0.],\n",
       "       [0., 0., 0., ..., 0., 0., 0.],\n",
       "       ...,\n",
       "       [0., 0., 0., ..., 0., 0., 0.],\n",
       "       [0., 0., 0., ..., 0., 0., 0.],\n",
       "       [0., 0., 0., ..., 0., 0., 0.]])"
      ]
     },
     "execution_count": 11,
     "metadata": {},
     "output_type": "execute_result"
    }
   ],
   "source": [
    "np.zeros((2048, 2048))"
   ]
  },
  {
   "cell_type": "code",
   "execution_count": null,
   "metadata": {},
   "outputs": [],
   "source": []
  }
 ],
 "metadata": {
  "kernelspec": {
   "display_name": "Python 3.7.16 ('mmseg2')",
   "language": "python",
   "name": "python3"
  },
  "language_info": {
   "codemirror_mode": {
    "name": "ipython",
    "version": 3
   },
   "file_extension": ".py",
   "mimetype": "text/x-python",
   "name": "python",
   "nbconvert_exporter": "python",
   "pygments_lexer": "ipython3",
   "version": "3.7.16"
  },
  "orig_nbformat": 4,
  "vscode": {
   "interpreter": {
    "hash": "2086e71761e0346d1b2ba579c50f43c8a7cc145636f342809f163fcf7c3af47c"
   }
  }
 },
 "nbformat": 4,
 "nbformat_minor": 2
}
